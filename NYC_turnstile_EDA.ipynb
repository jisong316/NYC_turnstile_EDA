{
 "cells": [
  {
   "cell_type": "code",
   "execution_count": 1,
   "metadata": {},
   "outputs": [],
   "source": [
    "import pandas as pd\n",
    "from scipy import stats\n",
    "import numpy as np\n",
    "import seaborn as sns\n",
    "import matplotlib.pyplot as plt"
   ]
  },
  {
   "cell_type": "markdown",
   "metadata": {},
   "source": [
    "### Download data from MTA"
   ]
  },
  {
   "cell_type": "code",
   "execution_count": 2,
   "metadata": {},
   "outputs": [],
   "source": [
    "# Load data for the month of June\n",
    "url1 = \"http://web.mta.info/developers/data/nyct/turnstile/turnstile_190601.txt\"\n",
    "url2 = \"http://web.mta.info/developers/data/nyct/turnstile/turnstile_190608.txt\"\n",
    "url3 = \"http://web.mta.info/developers/data/nyct/turnstile/turnstile_190615.txt\"\n",
    "url4 = \"http://web.mta.info/developers/data/nyct/turnstile/turnstile_190622.txt\"\n",
    "url5 = \"http://web.mta.info/developers/data/nyct/turnstile/turnstile_190629.txt\"\n",
    "df1 = pd.read_csv(url1)\n",
    "df2 = pd.read_csv(url2)\n",
    "df3 = pd.read_csv(url3)\n",
    "df4 = pd.read_csv(url4)\n",
    "df5 = pd.read_csv(url5)"
   ]
  },
  {
   "cell_type": "code",
   "execution_count": 91,
   "metadata": {},
   "outputs": [],
   "source": [
    "df = pd.concat([df1, df2, df3, df4, df5])"
   ]
  },
  {
   "cell_type": "code",
   "execution_count": 92,
   "metadata": {},
   "outputs": [],
   "source": [
    "# get rid of extra strings in columns \n",
    "df.columns = df.columns.str.replace(\" \", \"\")"
   ]
  },
  {
   "cell_type": "markdown",
   "metadata": {},
   "source": [
    "### Remove Outliers"
   ]
  },
  {
   "cell_type": "code",
   "execution_count": 93,
   "metadata": {},
   "outputs": [
    {
     "data": {
      "text/html": [
       "<div>\n",
       "<style scoped>\n",
       "    .dataframe tbody tr th:only-of-type {\n",
       "        vertical-align: middle;\n",
       "    }\n",
       "\n",
       "    .dataframe tbody tr th {\n",
       "        vertical-align: top;\n",
       "    }\n",
       "\n",
       "    .dataframe thead th {\n",
       "        text-align: right;\n",
       "    }\n",
       "</style>\n",
       "<table border=\"1\" class=\"dataframe\">\n",
       "  <thead>\n",
       "    <tr style=\"text-align: right;\">\n",
       "      <th></th>\n",
       "      <th>ENTRIES</th>\n",
       "      <th>EXITS</th>\n",
       "    </tr>\n",
       "  </thead>\n",
       "  <tbody>\n",
       "    <tr>\n",
       "      <th>count</th>\n",
       "      <td>1027180.000</td>\n",
       "      <td>1027180.000</td>\n",
       "    </tr>\n",
       "    <tr>\n",
       "      <th>mean</th>\n",
       "      <td>42073092.644</td>\n",
       "      <td>34377301.295</td>\n",
       "    </tr>\n",
       "    <tr>\n",
       "      <th>std</th>\n",
       "      <td>213717105.321</td>\n",
       "      <td>196474576.462</td>\n",
       "    </tr>\n",
       "    <tr>\n",
       "      <th>min</th>\n",
       "      <td>0.000</td>\n",
       "      <td>0.000</td>\n",
       "    </tr>\n",
       "    <tr>\n",
       "      <th>25%</th>\n",
       "      <td>298971.000</td>\n",
       "      <td>119183.000</td>\n",
       "    </tr>\n",
       "    <tr>\n",
       "      <th>50%</th>\n",
       "      <td>2137858.500</td>\n",
       "      <td>1222591.500</td>\n",
       "    </tr>\n",
       "    <tr>\n",
       "      <th>75%</th>\n",
       "      <td>6745217.500</td>\n",
       "      <td>4591467.000</td>\n",
       "    </tr>\n",
       "    <tr>\n",
       "      <th>max</th>\n",
       "      <td>2129289036.000</td>\n",
       "      <td>2124055240.000</td>\n",
       "    </tr>\n",
       "  </tbody>\n",
       "</table>\n",
       "</div>"
      ],
      "text/plain": [
       "             ENTRIES          EXITS\n",
       "count    1027180.000    1027180.000\n",
       "mean    42073092.644   34377301.295\n",
       "std    213717105.321  196474576.462\n",
       "min            0.000          0.000\n",
       "25%       298971.000     119183.000\n",
       "50%      2137858.500    1222591.500\n",
       "75%      6745217.500    4591467.000\n",
       "max   2129289036.000 2124055240.000"
      ]
     },
     "execution_count": 93,
     "metadata": {},
     "output_type": "execute_result"
    }
   ],
   "source": [
    "pd.set_option('display.float_format', lambda x: '%.3f' % x)\n",
    "count1 = df.count()[0]\n",
    "df.describe()"
   ]
  },
  {
   "cell_type": "code",
   "execution_count": 94,
   "metadata": {},
   "outputs": [
    {
     "name": "stdout",
     "output_type": "stream",
     "text": [
      "4472284.0\n"
     ]
    }
   ],
   "source": [
    "# IQR\n",
    "Q1 = df['EXITS'].quantile(0.25)\n",
    "Q3 = df['EXITS'].quantile(0.75)\n",
    "IQR = Q3 - Q1\n",
    "print(IQR)"
   ]
  },
  {
   "cell_type": "code",
   "execution_count": 95,
   "metadata": {},
   "outputs": [
    {
     "data": {
      "text/plain": [
       "11299893.0"
      ]
     },
     "execution_count": 95,
     "metadata": {},
     "output_type": "execute_result"
    }
   ],
   "source": [
    "high_outliers = Q3 + 1.5 * IQR\n",
    "high_outliers"
   ]
  },
  {
   "cell_type": "code",
   "execution_count": 96,
   "metadata": {},
   "outputs": [
    {
     "data": {
      "text/html": [
       "<div>\n",
       "<style scoped>\n",
       "    .dataframe tbody tr th:only-of-type {\n",
       "        vertical-align: middle;\n",
       "    }\n",
       "\n",
       "    .dataframe tbody tr th {\n",
       "        vertical-align: top;\n",
       "    }\n",
       "\n",
       "    .dataframe thead th {\n",
       "        text-align: right;\n",
       "    }\n",
       "</style>\n",
       "<table border=\"1\" class=\"dataframe\">\n",
       "  <thead>\n",
       "    <tr style=\"text-align: right;\">\n",
       "      <th></th>\n",
       "      <th>ENTRIES</th>\n",
       "      <th>EXITS</th>\n",
       "    </tr>\n",
       "  </thead>\n",
       "  <tbody>\n",
       "    <tr>\n",
       "      <th>count</th>\n",
       "      <td>927624.000</td>\n",
       "      <td>927624.000</td>\n",
       "    </tr>\n",
       "    <tr>\n",
       "      <th>mean</th>\n",
       "      <td>6830582.348</td>\n",
       "      <td>2074271.400</td>\n",
       "    </tr>\n",
       "    <tr>\n",
       "      <th>std</th>\n",
       "      <td>35639949.026</td>\n",
       "      <td>2665955.143</td>\n",
       "    </tr>\n",
       "    <tr>\n",
       "      <th>min</th>\n",
       "      <td>0.000</td>\n",
       "      <td>0.000</td>\n",
       "    </tr>\n",
       "    <tr>\n",
       "      <th>25%</th>\n",
       "      <td>220753.500</td>\n",
       "      <td>79761.750</td>\n",
       "    </tr>\n",
       "    <tr>\n",
       "      <th>50%</th>\n",
       "      <td>1609554.000</td>\n",
       "      <td>883508.000</td>\n",
       "    </tr>\n",
       "    <tr>\n",
       "      <th>75%</th>\n",
       "      <td>5258838.250</td>\n",
       "      <td>3114614.500</td>\n",
       "    </tr>\n",
       "    <tr>\n",
       "      <th>max</th>\n",
       "      <td>1206003933.000</td>\n",
       "      <td>11299874.000</td>\n",
       "    </tr>\n",
       "  </tbody>\n",
       "</table>\n",
       "</div>"
      ],
      "text/plain": [
       "             ENTRIES        EXITS\n",
       "count     927624.000   927624.000\n",
       "mean     6830582.348  2074271.400\n",
       "std     35639949.026  2665955.143\n",
       "min            0.000        0.000\n",
       "25%       220753.500    79761.750\n",
       "50%      1609554.000   883508.000\n",
       "75%      5258838.250  3114614.500\n",
       "max   1206003933.000 11299874.000"
      ]
     },
     "execution_count": 96,
     "metadata": {},
     "output_type": "execute_result"
    }
   ],
   "source": [
    "df = df.loc[df['EXITS'] < high_outliers]\n",
    "count2 = df.count()[0]\n",
    "df.describe()"
   ]
  },
  {
   "cell_type": "code",
   "execution_count": 97,
   "metadata": {},
   "outputs": [
    {
     "data": {
      "text/plain": [
       "0.9030783309643879"
      ]
     },
     "execution_count": 97,
     "metadata": {},
     "output_type": "execute_result"
    }
   ],
   "source": [
    "count2/count1"
   ]
  },
  {
   "cell_type": "markdown",
   "metadata": {},
   "source": [
    "### Calculate number of people in and out from cummulative values"
   ]
  },
  {
   "cell_type": "code",
   "execution_count": 98,
   "metadata": {},
   "outputs": [],
   "source": [
    "# Use diff() to derrive the actual number of people from the culmulative value for entries and exits for each SCP\n",
    "# abs() is used to account for the turnstiles that count backwards\n",
    "df['people_in'] = df.groupby(['STATION', 'UNIT', 'SCP'])['ENTRIES'].transform(lambda x: x.diff().abs())\n",
    "df['people_out'] = df.groupby(['STATION', 'UNIT', 'SCP'])['EXITS'].transform(lambda x: x.diff().abs())"
   ]
  },
  {
   "cell_type": "code",
   "execution_count": 99,
   "metadata": {},
   "outputs": [
    {
     "data": {
      "text/html": [
       "<div>\n",
       "<style scoped>\n",
       "    .dataframe tbody tr th:only-of-type {\n",
       "        vertical-align: middle;\n",
       "    }\n",
       "\n",
       "    .dataframe tbody tr th {\n",
       "        vertical-align: top;\n",
       "    }\n",
       "\n",
       "    .dataframe thead th {\n",
       "        text-align: right;\n",
       "    }\n",
       "</style>\n",
       "<table border=\"1\" class=\"dataframe\">\n",
       "  <thead>\n",
       "    <tr style=\"text-align: right;\">\n",
       "      <th></th>\n",
       "      <th>C/A</th>\n",
       "      <th>UNIT</th>\n",
       "      <th>SCP</th>\n",
       "      <th>STATION</th>\n",
       "      <th>LINENAME</th>\n",
       "      <th>DIVISION</th>\n",
       "      <th>DATE</th>\n",
       "      <th>TIME</th>\n",
       "      <th>DESC</th>\n",
       "      <th>ENTRIES</th>\n",
       "      <th>EXITS</th>\n",
       "      <th>people_in</th>\n",
       "      <th>people_out</th>\n",
       "    </tr>\n",
       "  </thead>\n",
       "  <tbody>\n",
       "    <tr>\n",
       "      <th>0</th>\n",
       "      <td>A002</td>\n",
       "      <td>R051</td>\n",
       "      <td>02-00-00</td>\n",
       "      <td>59 ST</td>\n",
       "      <td>NQR456W</td>\n",
       "      <td>BMT</td>\n",
       "      <td>05/25/2019</td>\n",
       "      <td>00:00:00</td>\n",
       "      <td>REGULAR</td>\n",
       "      <td>7071830</td>\n",
       "      <td>2396411</td>\n",
       "      <td>nan</td>\n",
       "      <td>nan</td>\n",
       "    </tr>\n",
       "    <tr>\n",
       "      <th>42</th>\n",
       "      <td>A002</td>\n",
       "      <td>R051</td>\n",
       "      <td>02-00-01</td>\n",
       "      <td>59 ST</td>\n",
       "      <td>NQR456W</td>\n",
       "      <td>BMT</td>\n",
       "      <td>05/25/2019</td>\n",
       "      <td>00:00:00</td>\n",
       "      <td>REGULAR</td>\n",
       "      <td>6298050</td>\n",
       "      <td>1412557</td>\n",
       "      <td>nan</td>\n",
       "      <td>nan</td>\n",
       "    </tr>\n",
       "    <tr>\n",
       "      <th>84</th>\n",
       "      <td>A002</td>\n",
       "      <td>R051</td>\n",
       "      <td>02-03-00</td>\n",
       "      <td>59 ST</td>\n",
       "      <td>NQR456W</td>\n",
       "      <td>BMT</td>\n",
       "      <td>05/25/2019</td>\n",
       "      <td>00:00:00</td>\n",
       "      <td>REGULAR</td>\n",
       "      <td>1236982</td>\n",
       "      <td>4651756</td>\n",
       "      <td>nan</td>\n",
       "      <td>nan</td>\n",
       "    </tr>\n",
       "    <tr>\n",
       "      <th>126</th>\n",
       "      <td>A002</td>\n",
       "      <td>R051</td>\n",
       "      <td>02-03-01</td>\n",
       "      <td>59 ST</td>\n",
       "      <td>NQR456W</td>\n",
       "      <td>BMT</td>\n",
       "      <td>05/25/2019</td>\n",
       "      <td>00:00:00</td>\n",
       "      <td>REGULAR</td>\n",
       "      <td>1115712</td>\n",
       "      <td>1720977</td>\n",
       "      <td>nan</td>\n",
       "      <td>nan</td>\n",
       "    </tr>\n",
       "    <tr>\n",
       "      <th>168</th>\n",
       "      <td>A002</td>\n",
       "      <td>R051</td>\n",
       "      <td>02-03-02</td>\n",
       "      <td>59 ST</td>\n",
       "      <td>NQR456W</td>\n",
       "      <td>BMT</td>\n",
       "      <td>05/25/2019</td>\n",
       "      <td>00:00:00</td>\n",
       "      <td>REGULAR</td>\n",
       "      <td>6200254</td>\n",
       "      <td>8353543</td>\n",
       "      <td>nan</td>\n",
       "      <td>nan</td>\n",
       "    </tr>\n",
       "  </tbody>\n",
       "</table>\n",
       "</div>"
      ],
      "text/plain": [
       "      C/A  UNIT       SCP STATION LINENAME DIVISION        DATE      TIME  \\\n",
       "0    A002  R051  02-00-00   59 ST  NQR456W      BMT  05/25/2019  00:00:00   \n",
       "42   A002  R051  02-00-01   59 ST  NQR456W      BMT  05/25/2019  00:00:00   \n",
       "84   A002  R051  02-03-00   59 ST  NQR456W      BMT  05/25/2019  00:00:00   \n",
       "126  A002  R051  02-03-01   59 ST  NQR456W      BMT  05/25/2019  00:00:00   \n",
       "168  A002  R051  02-03-02   59 ST  NQR456W      BMT  05/25/2019  00:00:00   \n",
       "\n",
       "        DESC  ENTRIES    EXITS  people_in  people_out  \n",
       "0    REGULAR  7071830  2396411        nan         nan  \n",
       "42   REGULAR  6298050  1412557        nan         nan  \n",
       "84   REGULAR  1236982  4651756        nan         nan  \n",
       "126  REGULAR  1115712  1720977        nan         nan  \n",
       "168  REGULAR  6200254  8353543        nan         nan  "
      ]
     },
     "execution_count": 99,
     "metadata": {},
     "output_type": "execute_result"
    }
   ],
   "source": [
    "# show which rows are NaN - each nan is at the beginning of a new scp\n",
    "df[df['people_in'].isna()].head()"
   ]
  },
  {
   "cell_type": "code",
   "execution_count": 100,
   "metadata": {},
   "outputs": [],
   "source": [
    "# Remove all nan data\n",
    "df = df.dropna()"
   ]
  },
  {
   "cell_type": "markdown",
   "metadata": {},
   "source": [
    "### Incorporate Jieun's analysis and select only the top 30 stations"
   ]
  },
  {
   "cell_type": "code",
   "execution_count": 101,
   "metadata": {},
   "outputs": [],
   "source": [
    "# list of top 30 stations from Jieun's notebook\n",
    "stations = ['23 ST', '42 ST-PORT AUTH', 'CANAL ST', '59 ST', '14 ST', '125 ST',\n",
    "       '104 ST', 'TIMES SQ-42 ST', 'DEKALB AV', '86 ST', 'FRANKLIN AV',\n",
    "       '145 ST', '167 ST', 'LEXINGTON AV/53', '72 ST', 'GUN HILL RD',\n",
    "       'BOWLING GREEN', 'FULTON ST', 'GRD CNTRL-42 ST', '66 ST-LINCOLN',\n",
    "       'KINGS HWY', 'GRAND ST', 'KINGSBRIDGE RD', '34 ST-PENN STA',\n",
    "       'CHAMBERS ST', 'FORDHAM RD', '116 ST', '96 ST', '50 ST',\n",
    "       'FT HAMILTON PKY']"
   ]
  },
  {
   "cell_type": "code",
   "execution_count": 102,
   "metadata": {},
   "outputs": [],
   "source": [
    "# select only top 30 stations from data frame\n",
    "df = df[df['STATION'].isin(stations)]"
   ]
  },
  {
   "cell_type": "markdown",
   "metadata": {},
   "source": [
    "### Filter stations that are in Silicon Alley"
   ]
  },
  {
   "cell_type": "code",
   "execution_count": 103,
   "metadata": {},
   "outputs": [],
   "source": [
    "# Load table of silicon alley stations\n",
    "silicon_alley = pd.read_csv('/Users/AuerPower/Metis/git/NYC_turnstile_EDA/data/silicon_alley.csv')\n",
    "#silicon_alley.head()"
   ]
  },
  {
   "cell_type": "code",
   "execution_count": 104,
   "metadata": {},
   "outputs": [],
   "source": [
    "silicon_alley_str = silicon_alley.name"
   ]
  },
  {
   "cell_type": "code",
   "execution_count": 105,
   "metadata": {},
   "outputs": [
    {
     "data": {
      "text/plain": [
       "Series([], Name: name, dtype: object)"
      ]
     },
     "execution_count": 105,
     "metadata": {},
     "output_type": "execute_result"
    }
   ],
   "source": [
    "# we use this code to test whether stations in our top 30 are in sillicon alley\n",
    "silicon_alley_str[silicon_alley_str.str.contains('Hamilton', regex=True)]"
   ]
  },
  {
   "cell_type": "code",
   "execution_count": 106,
   "metadata": {},
   "outputs": [],
   "source": [
    "# filter top 30 based on stations that are in silicon alley\n",
    "top_12_sa = ['23 ST', '42 ST-PORT AUTH', 'CANAL ST', '14 ST', 'TIMES SQ-42 ST', 'BOWLING GREEN',\n",
    "             'FULTON ST', 'GRD CNTRL-42 ST', 'GRAND ST', '34 ST-PENN STA', 'CHAMBERS ST', '50 ST']\n",
    "df = df[df['STATION'].isin(top_12_sa)]"
   ]
  },
  {
   "cell_type": "code",
   "execution_count": 107,
   "metadata": {},
   "outputs": [
    {
     "data": {
      "text/plain": [
       "array(['TIMES SQ-42 ST', '23 ST', 'CANAL ST', 'CHAMBERS ST', 'FULTON ST',\n",
       "       '50 ST', 'GRAND ST', '42 ST-PORT AUTH', '34 ST-PENN STA', '14 ST',\n",
       "       'BOWLING GREEN', 'GRD CNTRL-42 ST'], dtype=object)"
      ]
     },
     "execution_count": 107,
     "metadata": {},
     "output_type": "execute_result"
    }
   ],
   "source": [
    "df['STATION'].unique()"
   ]
  },
  {
   "cell_type": "markdown",
   "metadata": {},
   "source": [
    "### Make Graphs showing frequency for time of day and day of week "
   ]
  },
  {
   "cell_type": "code",
   "execution_count": 108,
   "metadata": {},
   "outputs": [],
   "source": [
    "# Create a day of week column\n",
    "df['DATE'] = pd.to_datetime(df['DATE'])\n",
    "df['weekday'] = df['DATE'].dt.day_name()"
   ]
  },
  {
   "cell_type": "code",
   "execution_count": 109,
   "metadata": {},
   "outputs": [],
   "source": [
    "# Remove Saturday and Sunday - we want to target commuters and street teams don't want to work on the weekend\n",
    "df = df[~df['weekday'].isin(['Saturday', 'Sunday'])]"
   ]
  },
  {
   "cell_type": "code",
   "execution_count": 110,
   "metadata": {},
   "outputs": [
    {
     "data": {
      "text/html": [
       "<div>\n",
       "<style scoped>\n",
       "    .dataframe tbody tr th:only-of-type {\n",
       "        vertical-align: middle;\n",
       "    }\n",
       "\n",
       "    .dataframe tbody tr th {\n",
       "        vertical-align: top;\n",
       "    }\n",
       "\n",
       "    .dataframe thead th {\n",
       "        text-align: right;\n",
       "    }\n",
       "</style>\n",
       "<table border=\"1\" class=\"dataframe\">\n",
       "  <thead>\n",
       "    <tr style=\"text-align: right;\">\n",
       "      <th></th>\n",
       "      <th>weekday</th>\n",
       "      <th>STATION</th>\n",
       "      <th>people_out</th>\n",
       "    </tr>\n",
       "  </thead>\n",
       "  <tbody>\n",
       "    <tr>\n",
       "      <th>2507</th>\n",
       "      <td>Monday</td>\n",
       "      <td>TIMES SQ-42 ST</td>\n",
       "      <td>214.000</td>\n",
       "    </tr>\n",
       "    <tr>\n",
       "      <th>2508</th>\n",
       "      <td>Monday</td>\n",
       "      <td>TIMES SQ-42 ST</td>\n",
       "      <td>41.000</td>\n",
       "    </tr>\n",
       "    <tr>\n",
       "      <th>2509</th>\n",
       "      <td>Monday</td>\n",
       "      <td>TIMES SQ-42 ST</td>\n",
       "      <td>91.000</td>\n",
       "    </tr>\n",
       "    <tr>\n",
       "      <th>2510</th>\n",
       "      <td>Monday</td>\n",
       "      <td>TIMES SQ-42 ST</td>\n",
       "      <td>424.000</td>\n",
       "    </tr>\n",
       "    <tr>\n",
       "      <th>2511</th>\n",
       "      <td>Monday</td>\n",
       "      <td>TIMES SQ-42 ST</td>\n",
       "      <td>444.000</td>\n",
       "    </tr>\n",
       "  </tbody>\n",
       "</table>\n",
       "</div>"
      ],
      "text/plain": [
       "     weekday         STATION  people_out\n",
       "2507  Monday  TIMES SQ-42 ST     214.000\n",
       "2508  Monday  TIMES SQ-42 ST      41.000\n",
       "2509  Monday  TIMES SQ-42 ST      91.000\n",
       "2510  Monday  TIMES SQ-42 ST     424.000\n",
       "2511  Monday  TIMES SQ-42 ST     444.000"
      ]
     },
     "execution_count": 110,
     "metadata": {},
     "output_type": "execute_result"
    }
   ],
   "source": [
    "heat_df = df.filter(['weekday','STATION','people_out'], axis=1)\n",
    "heat_df.head()"
   ]
  },
  {
   "cell_type": "code",
   "execution_count": 111,
   "metadata": {},
   "outputs": [],
   "source": [
    "heat_df = heat_df.pivot_table(index='weekday', columns='STATION', values='people_out', aggfunc='sum')"
   ]
  },
  {
   "cell_type": "code",
   "execution_count": 112,
   "metadata": {},
   "outputs": [
    {
     "name": "stderr",
     "output_type": "stream",
     "text": [
      "No handles with labels found to put in legend.\n"
     ]
    },
    {
     "data": {
      "image/png": "[encoded data removed]",
      "text/plain": [
       "<Figure size 720x360 with 2 Axes>"
      ]
     },
     "metadata": {
      "needs_background": "light"
     },
     "output_type": "display_data"
    }
   ],
   "source": [
    "a4_dims = (10, 5)\n",
    "fig, ax = plt.subplots(figsize=(a4_dims))\n",
    "sns.heatmap(heat_df)\n",
    "plt.title('Exits per Weekday and Station', size=14)\n",
    "plt.xlabel('Station', size=12)\n",
    "plt.ylabel('Weekday', size=12)\n",
    "plt.legend(fontsize=12);\n",
    "plt.savefig('/Users/AuerPower/Metis/git/NYC_turnstile_EDA/images/station_heat_map.svg')"
   ]
  },
  {
   "cell_type": "code",
   "execution_count": 113,
   "metadata": {},
   "outputs": [
    {
     "data": {
      "text/plain": [
       "<matplotlib.legend.Legend at 0x22b594110>"
      ]
     },
     "execution_count": 113,
     "metadata": {},
     "output_type": "execute_result"
    },
    {
     "data": {
      "image/png": "[encoded data removed]",
      "text/plain": [
       "<Figure size 1080x720 with 1 Axes>"
      ]
     },
     "metadata": {
      "needs_background": "light"
     },
     "output_type": "display_data"
    }
   ],
   "source": [
    "# Graph of time of day\n",
    "df['hour'] = df['TIME'].astype(str).str[:2]\n",
    "\n",
    "# Sort for presentation's sake\n",
    "data = df[['DATE', 'hour', 'weekday', 'people_out']].groupby(\n",
    "    ['DATE', 'weekday', 'hour'], as_index=False).sum()\n",
    "data.sort_values(by=['hour', 'DATE', 'weekday'], inplace=True)\n",
    "a4_dims = (15, 10)\n",
    "fig, ax = plt.subplots(figsize=(a4_dims))\n",
    "sns.lineplot(ax=ax, x='hour', y='people_out', hue='weekday', data=data)\n",
    "plt.xticks(rotation='vertical', size=15)\n",
    "plt.yticks(size=15)\n",
    "plt.title('Exits per Hour in Silicon Alley', size=30)\n",
    "plt.xlabel('Hour', size=20)\n",
    "plt.ylabel('Exits', size=20)\n",
    "plt.legend(fontsize=20)\n",
    "#plt.savefig('/Users/AuerPower/Metis/git/NYC_turnstile_EDA/images/time_of_day.jpg')"
   ]
  },
  {
   "cell_type": "markdown",
   "metadata": {},
   "source": [
    "### Map"
   ]
  },
  {
   "cell_type": "code",
   "execution_count": null,
   "metadata": {},
   "outputs": [],
   "source": [
    "# Load shapefile using geopandas\n",
    "import geopandas as gpd\n",
    "import contextily as ctx"
   ]
  },
  {
   "cell_type": "code",
   "execution_count": null,
   "metadata": {},
   "outputs": [],
   "source": [
    "fp = \"/Users/AuerPower/Metis/git/NYC_turnstile_EDA/data/silicon_alley2.shp\"\n",
    "map_df = gpd.read_file(fp)"
   ]
  },
  {
   "cell_type": "code",
   "execution_count": null,
   "metadata": {},
   "outputs": [],
   "source": [
    "map_df.plot()"
   ]
  },
  {
   "cell_type": "code",
   "execution_count": null,
   "metadata": {},
   "outputs": [],
   "source": [
    "map_df.name.unique()"
   ]
  },
  {
   "cell_type": "code",
   "execution_count": null,
   "metadata": {},
   "outputs": [],
   "source": [
    "map_df_stations = map_df.name"
   ]
  },
  {
   "cell_type": "code",
   "execution_count": null,
   "metadata": {},
   "outputs": [],
   "source": [
    "# select only top 30 stations from data frame\n",
    "map_df_stations[map_df_stations.str.contains('Grand', regex=True)]"
   ]
  },
  {
   "cell_type": "code",
   "execution_count": null,
   "metadata": {},
   "outputs": [],
   "source": [
    "map_df_station_names = ['Times Sq - 42nd St', '23rd St', 'Chambers St', 'Fulton St',\n",
    "                        '50th St','Grand St','42nd St - Port Authority Bus Term', 'Canal St', \n",
    "                        'Grand Central - 42nd St', '34th St - Penn Station', \n",
    "                       '14th St', 'Bowling Green']"
   ]
  },
  {
   "cell_type": "code",
   "execution_count": null,
   "metadata": {},
   "outputs": [],
   "source": [
    "len(map_df_station_names)"
   ]
  },
  {
   "cell_type": "code",
   "execution_count": null,
   "metadata": {},
   "outputs": [],
   "source": [
    "map_df = map_df[map_df['name'].isin(map_df_station_names)]"
   ]
  },
  {
   "cell_type": "code",
   "execution_count": null,
   "metadata": {},
   "outputs": [],
   "source": [
    "# remove duplicate station locations\n",
    "map_df = map_df.drop_duplicates(subset='name', keep=\"first\")\n",
    "map_df.plot()"
   ]
  },
  {
   "cell_type": "code",
   "execution_count": null,
   "metadata": {},
   "outputs": [],
   "source": [
    "# Sort names so we can repalce them with the df names\n",
    "map_df = map_df.sort_values(by='name')\n",
    "map_df.name"
   ]
  },
  {
   "cell_type": "code",
   "execution_count": null,
   "metadata": {},
   "outputs": [],
   "source": [
    "df = df.sort_values(by='STATION')\n",
    "df.STATION.unique()"
   ]
  },
  {
   "cell_type": "code",
   "execution_count": null,
   "metadata": {},
   "outputs": [],
   "source": [
    "# change station names in df to match map_df\n",
    "map_df['name'].replace('14th St', '14 ST')\n",
    "map_df['name'].replace('23rd St', '23 ST')\n",
    "map_df['name'].replace('34th St - Penn Station', '34 ST-PENN STA')\n",
    "map_df['name'].replace('42nd St - Port Authority Bus Term', '42 ST-PORT AUTH')\n",
    "map_df['name'].replace('50th St', '50 ST')\n",
    "map_df['name'].replace('Bowling Green', 'BOWLING GREEN')\n",
    "map_df['name'].replace('Canal St', 'CANAL ST')\n",
    "map_df['name'].replace('Chambers St', 'CHAMBERS ST')\n",
    "map_df['name'].replace('Fulton St', 'FULTON ST')\n",
    "map_df['name'].replace('Grand Central - 42nd St', 'GRD CNTRL-42 ST')\n",
    "map_df['name'].replace('Grand St', 'GRAND ST')\n",
    "map_df['name'].replace('Times Sq - 42nd St', 'TIMES SQ-42 ST')"
   ]
  },
  {
   "cell_type": "code",
   "execution_count": null,
   "metadata": {},
   "outputs": [],
   "source": [
    "map_df.name"
   ]
  },
  {
   "cell_type": "code",
   "execution_count": null,
   "metadata": {},
   "outputs": [],
   "source": [
    "#merged = map_df.set_index('name').join(df.set_index('STATION'))\n",
    "#merged.head()"
   ]
  },
  {
   "cell_type": "code",
   "execution_count": null,
   "metadata": {},
   "outputs": [],
   "source": [
    "ax = df.plot(figsize=(10, 10), alpha=0.5, edgecolor='k')\n",
    "ctx.add_basemap(ax, url=ctx.providers.Stamen.TonerLite)\n",
    "ax.set_axis_off()"
   ]
  }
 ],
 "metadata": {
  "kernelspec": {
   "display_name": "Python [conda env:metis] *",
   "language": "python",
   "name": "conda-env-metis-py"
  },
  "language_info": {
   "codemirror_mode": {
    "name": "ipython",
    "version": 3
   },
   "file_extension": ".py",
   "mimetype": "text/x-python",
   "name": "python",
   "nbconvert_exporter": "python",
   "pygments_lexer": "ipython3",
   "version": "3.7.4"
  }
 },
 "nbformat": 4,
 "nbformat_minor": 2
}
